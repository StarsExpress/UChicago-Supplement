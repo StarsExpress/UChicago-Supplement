{
 "cells": [
  {
   "cell_type": "markdown",
   "metadata": {},
   "source": [
    "## Data Table & Visualization"
   ]
  },
  {
   "cell_type": "markdown",
   "metadata": {},
   "source": [
    "For more reference, please visit: https://github.com/StarsExpress/UChicago-Supplement<br />Thank you~"
   ]
  },
  {
   "cell_type": "markdown",
   "metadata": {},
   "source": [
    "### Imports & Setups"
   ]
  },
  {
   "cell_type": "code",
   "execution_count": 20,
   "metadata": {},
   "outputs": [],
   "source": [
    "import os\n",
    "import pandas as pd\n",
    "from scatter_plots.pass_rush_plot import plot_pass_rush\n",
    "from config import DATA_FOLDER_PATH\n",
    "\n",
    "original_pass_rush_path = os.path.join(DATA_FOLDER_PATH, f\"2024 NFL Front 7 Pass Rush.xlsx\")\n",
    "original_pass_rush_df = pd.read_excel(original_pass_rush_path, sheet_name=[\"DI\", \"ED\"])\n",
    "original_pass_rush_df = pd.concat([original_pass_rush_df[\"DI\"], original_pass_rush_df[\"ED\"]], axis=0)"
   ]
  },
  {
   "cell_type": "markdown",
   "metadata": {},
   "source": [
    "### Data Table Function & Result"
   ]
  },
  {
   "cell_type": "code",
   "execution_count": 21,
   "metadata": {},
   "outputs": [],
   "source": [
    "def compute_pass_rush_rank(\n",
    "    metric: str, rate_name: str, position: str = None, teams: list = None, return_rank_df: bool = False\n",
    ") -> pd.DataFrame | None:\n",
    "    if position is not None:\n",
    "        pass_rush_df = original_pass_rush_df[original_pass_rush_df[\"Position\"] == position]\n",
    "\n",
    "    else:\n",
    "        pass_rush_df = original_pass_rush_df.copy()\n",
    "\n",
    "    groupby_cols = [\"PR Opp\", metric, \"TPS PR Opp\", f\"TPS {metric}\"]\n",
    "\n",
    "    pass_rush_df = pass_rush_df.groupby(by=[\"Team\"], as_index=False, sort=False)[groupby_cols].sum()\n",
    "\n",
    "    pass_rush_df[f\"{rate_name}\"] = pass_rush_df[metric] / pass_rush_df[\"PR Opp\"]\n",
    "    pass_rush_df[f\"{rate_name}\"] *= 100\n",
    "    pass_rush_df[f\"{rate_name}\"] = pass_rush_df[f\"{rate_name}\"].round(2)\n",
    "    pass_rush_df.insert(\n",
    "        0, f\"{rate_name} Rank\", pass_rush_df[f\"{rate_name}\"].rank(method=\"min\", ascending=False)\n",
    "    )\n",
    "\n",
    "    pass_rush_df.sort_values(by=f\"{rate_name} Rank\", ascending=True, inplace=True)\n",
    "    if teams is not None:\n",
    "        pass_rush_df = pass_rush_df[pass_rush_df['Team'].isin(teams)]\n",
    "\n",
    "    cols = [f\"{rate_name} Rank\", \"Team\", f\"{rate_name}\", f\"{metric}\", \"PR Opp\"]\n",
    "    if return_rank_df:\n",
    "        return pass_rush_df[cols]\n",
    "    print(pass_rush_df[cols].to_markdown(tablefmt=\"grid\", index=False), '\\n')"
   ]
  },
  {
   "cell_type": "code",
   "execution_count": 22,
   "metadata": {
    "scrolled": true
   },
   "outputs": [
    {
     "name": "stdout",
     "output_type": "stream",
     "text": [
      "+-------------------+--------+--------------+---------+----------+\n",
      "|   Havoc Rate Rank | Team   |   Havoc Rate |   Havoc |   PR Opp |\n",
      "+===================+========+==============+=========+==========+\n",
      "|                 1 | DEN    |         4.74 |     131 |     2764 |\n",
      "+-------------------+--------+--------------+---------+----------+\n",
      "|                 2 | CHI    |         4.02 |      89 |     2213 |\n",
      "+-------------------+--------+--------------+---------+----------+\n",
      "|                 3 | SEA    |         3.83 |     101 |     2640 |\n",
      "+-------------------+--------+--------------+---------+----------+\n",
      "|                 4 | PIT    |         3.8  |     104 |     2740 |\n",
      "+-------------------+--------+--------------+---------+----------+\n",
      "|                 5 | DAL    |         3.62 |      85 |     2348 |\n",
      "+-------------------+--------+--------------+---------+----------+\n",
      "|                 6 | BLT    |         3.59 |      94 |     2620 |\n",
      "+-------------------+--------+--------------+---------+----------+\n",
      "|                 7 | CLV    |         3.53 |      74 |     2097 |\n",
      "+-------------------+--------+--------------+---------+----------+\n",
      "|                 8 | BUF    |         3.48 |      91 |     2618 |\n",
      "+-------------------+--------+--------------+---------+----------+\n",
      "|                 8 | KC     |         3.48 |      87 |     2499 |\n",
      "+-------------------+--------+--------------+---------+----------+\n",
      "|                 8 | HST    |         3.48 |      85 |     2445 |\n",
      "+-------------------+--------+--------------+---------+----------+\n"
     ]
    }
   ],
   "source": [
    "pass_rush_rank = compute_pass_rush_rank('Havoc', 'Havoc Rate', return_rank_df=True)\n",
    "print(pass_rush_rank.head(10).to_markdown(tablefmt=\"grid\", index=False))  # Due to page space limit, I only show top 10."
   ]
  },
  {
   "cell_type": "markdown",
   "metadata": {},
   "source": [
    "### Data Visualization"
   ]
  },
  {
   "cell_type": "code",
   "execution_count": 23,
   "metadata": {},
   "outputs": [],
   "source": [
    "plot_pass_rush(2024, \"DI\", 150, \"TPS Win Rate\", \"Win Rate\")"
   ]
  }
 ],
 "metadata": {
  "kernelspec": {
   "display_name": "Python 3 (ipykernel)",
   "language": "python",
   "name": "python3"
  },
  "language_info": {
   "codemirror_mode": {
    "name": "ipython",
    "version": 3
   },
   "file_extension": ".py",
   "mimetype": "text/x-python",
   "name": "python",
   "nbconvert_exporter": "python",
   "pygments_lexer": "ipython3",
   "version": "3.12.7"
  }
 },
 "nbformat": 4,
 "nbformat_minor": 4
}
